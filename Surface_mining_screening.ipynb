{
 "cells": [
  {
   "cell_type": "markdown",
   "metadata": {},
   "source": [
    "# Surface Mining Detection"
   ]
  },
  {
   "cell_type": "markdown",
   "metadata": {},
   "source": [
    "### Load packages"
   ]
  },
  {
   "cell_type": "code",
   "execution_count": 1,
   "metadata": {},
   "outputs": [
    {
     "name": "stderr",
     "output_type": "stream",
     "text": [
      "/usr/local/lib/python3.8/dist-packages/geopandas/_compat.py:112: UserWarning: The Shapely GEOS version (3.8.0-CAPI-1.13.1 ) is incompatible with the GEOS version PyGEOS was compiled with (3.10.3-CAPI-1.16.1). Conversions between both will be slow.\n",
      "  warnings.warn(\n"
     ]
    }
   ],
   "source": [
    "# Import functions for this notebook\n",
    "from Surface_mining_screening import (\n",
    "    calculate_area_per_pixel,\n",
    "    load_vector_file,\n",
    "    process_data,\n",
    "    calculate_vegetation_loss,\n",
    "    plot_possible_mining,\n",
    "    plot_vegetationloss_mining,\n",
    ")"
   ]
  },
  {
   "cell_type": "markdown",
   "metadata": {},
   "source": [
    "### Get Info from User\n",
    "\n",
    "Information and data collected here will be used for labelling the final produce among others. "
   ]
  },
  {
   "cell_type": "code",
   "execution_count": 2,
   "metadata": {},
   "outputs": [
    {
     "name": "stdin",
     "output_type": "stream",
     "text": [
      "District Shapefile Name :  Bindura\n"
     ]
    }
   ],
   "source": [
    "district_name = input(\"District Shapefile Name : \")"
   ]
  },
  {
   "cell_type": "markdown",
   "metadata": {},
   "source": [
    "### Analysis parameters\n",
    "\n",
    "The parameters are:\n",
    "\n",
    "* `start_year`: The year to start the analysis\n",
    "* `end_year`: The year to end the analysis\n",
    "* `product` : whether oto use Sentinel-2 or sentinel-1 for the analysis, acceptable values are `'s2'` or `'s1'`\n",
    "* `threhold`: The threshold to use for indentifying vegetaton loss, this can either be a float e.g. `-0.15`, or `'otsu'`, in which case the threshold will be automatically identified using the otsu method.\n",
    "* `vector_file`: The file path and name of a vector file containing the extent. Can be a `.kml` file, or a `.shp` file. Make sure the other files such as .prj, .shx .dbf are also available in the same folder path as that of the `.shp` file"
   ]
  },
  {
   "cell_type": "code",
   "execution_count": 3,
   "metadata": {},
   "outputs": [],
   "source": [
    "start_year = 2018\n",
    "end_year = 2022\n",
    "product= 's2'\n",
    "threshold = -0.1\n",
    "vector_file = f\"data/{district_name}.shp\""
   ]
  },
  {
   "cell_type": "markdown",
   "metadata": {},
   "source": [
    "### View the area of interest defined by the vector file"
   ]
  },
  {
   "cell_type": "code",
   "execution_count": 4,
   "metadata": {},
   "outputs": [
    {
     "data": {
      "application/vnd.jupyter.widget-view+json": {
       "model_id": "e81a64a8f62d4a7e943ace84440edefa",
       "version_major": 2,
       "version_minor": 0
      },
      "text/plain": [
       "Label(value='')"
      ]
     },
     "metadata": {},
     "output_type": "display_data"
    },
    {
     "data": {
      "application/vnd.jupyter.widget-view+json": {
       "model_id": "e5daa9ebb88244ab9780c6288dd96794",
       "version_major": 2,
       "version_minor": 0
      },
      "text/plain": [
       "Map(center=[-17.23360957999995, 31.312503367500057], controls=(ZoomControl(options=['position', 'zoom_in_text'…"
      ]
     },
     "metadata": {},
     "output_type": "display_data"
    }
   ],
   "source": [
    "gdf, geom = load_vector_file(vector_file)"
   ]
  },
  {
   "cell_type": "markdown",
   "metadata": {},
   "source": [
    "## Load and process data\n",
    "\n",
    "This analysis uses two datasets:\n",
    "\n",
    "* Sentinel-2 geomedians or Sentinel-1 backscatter for identifying vegetation loss\n",
    "* Water Observations from Space (WOfS) for identifying water\n",
    "\n",
    "If an area has experienced both vegetation loss and water presence, it may be related to surface mining activity. "
   ]
  },
  {
   "cell_type": "code",
   "execution_count": null,
   "metadata": {},
   "outputs": [],
   "source": [
    "sentinel, wofs = process_data(gdf, geom, start_year, end_year, product=product)"
   ]
  },
  {
   "cell_type": "markdown",
   "metadata": {},
   "source": [
    "## Calculation of Vegetation Loss"
   ]
  },
  {
   "cell_type": "code",
   "execution_count": null,
   "metadata": {},
   "outputs": [],
   "source": [
    "veg_loss_annual, veg_loss_all = calculate_vegetation_loss(sentinel, threshold=threshold, product=product)"
   ]
  },
  {
   "cell_type": "markdown",
   "metadata": {},
   "source": [
    "## Determine possible mining areas\n",
    "\n",
    "`Assumption`: When water (WOfS) and vegetation loss are coincident, the area is classified as high-potential mining site."
   ]
  },
  {
   "cell_type": "code",
   "execution_count": null,
   "metadata": {},
   "outputs": [],
   "source": [
    "vegetation_loss_mining = plot_possible_mining(sentinel, veg_loss_all, wofs, product=product)"
   ]
  },
  {
   "cell_type": "markdown",
   "metadata": {},
   "source": [
    "## Examine vegetation loss from possible mining each year\n",
    "\n",
    "The final function compares the vegetation loss from possible mining to all vegetation loss each year, and builds a spatial plot showing the vegetation loss from possible mining each year."
   ]
  },
  {
   "cell_type": "code",
   "execution_count": null,
   "metadata": {},
   "outputs": [],
   "source": [
    "plot_vegetationloss_mining(sentinel, veg_loss_annual, vegetation_loss_mining, product=product)"
   ]
  },
  {
   "cell_type": "markdown",
   "metadata": {},
   "source": [
    "### Export the Analysis Result"
   ]
  },
  {
   "cell_type": "code",
   "execution_count": null,
   "metadata": {},
   "outputs": [],
   "source": [
    "from datacube.utils.cog import write_cog\n",
    "write_cog(vegetation_loss_mining, \n",
    "          fname=f\"{district_name}.tif\",\n",
    "          overwrite=True)"
   ]
  }
 ],
 "metadata": {
  "kernelspec": {
   "display_name": "Python 3 (ipykernel)",
   "language": "python",
   "name": "python3"
  },
  "language_info": {
   "codemirror_mode": {
    "name": "ipython",
    "version": 3
   },
   "file_extension": ".py",
   "mimetype": "text/x-python",
   "name": "python",
   "nbconvert_exporter": "python",
   "pygments_lexer": "ipython3",
   "version": "3.8.10"
  },
  "widgets": {
   "application/vnd.jupyter.widget-state+json": {
    "state": {
     "098cc3572762449ca10c44624f2fc878": {
      "model_module": "@jupyter-widgets/base",
      "model_module_version": "1.2.0",
      "model_name": "LayoutModel",
      "state": {
       "height": "600px",
       "width": "800px"
      }
     },
     "370492925a324770ae65549da50f642e": {
      "model_module": "@jupyter-widgets/controls",
      "model_module_version": "1.5.0",
      "model_name": "DescriptionStyleModel",
      "state": {
       "description_width": ""
      }
     },
     "405614e6420d49dfac62e9597e5f458b": {
      "model_module": "jupyter-leaflet",
      "model_module_version": "^0.14.0",
      "model_name": "LeafletGeoJSONModel",
      "state": {
       "_model_module": "jupyter-leaflet",
       "_model_module_version": "^0.14.0",
       "_view_count": null,
       "_view_module": "jupyter-leaflet",
       "_view_module_version": "^0.14.0",
       "base": false,
       "bottom": false,
       "data": {
        "bbox": [
         -1.908605308430739,
         6.290364101545862,
         -1.83311769591787,
         6.366906836146708
        ],
        "features": [
         {
          "bbox": [
           -1.908605308430739,
           6.290364101545862,
           -1.83311769591787,
           6.366906836146708
          ],
          "geometry": {
           "coordinates": [
            [
             [
              -1.86596168678959,
              6.361279776310988
             ],
             [
              -1.856047797452465,
              6.366906836146708
             ],
             [
              -1.850491560872626,
              6.355495151883503
             ],
             [
              -1.848012637176931,
              6.35290088059477
             ],
             [
              -1.846123199620569,
              6.347368054896611
             ],
             [
              -1.840482119018332,
              6.340147945181105
             ],
             [
              -1.836644391639276,
              6.342760476052268
             ],
             [
              -1.83311769591787,
              6.338873309006183
             ],
             [
              -1.83549319451369,
              6.321483384260929
             ],
             [
              -1.837034758996435,
              6.321447714021776
             ],
             [
              -1.841124298190791,
              6.317116206009917
             ],
             [
              -1.844676071277162,
              6.315517923506022
             ],
             [
              -1.847594655646314,
              6.312751939620411
             ],
             [
              -1.870652683736668,
              6.290364101545862
             ],
             [
              -1.891275034943468,
              6.320718669245941
             ],
             [
              -1.908605308430739,
              6.345962594401444
             ],
             [
              -1.898910882560383,
              6.351252214852271
             ],
             [
              -1.894150801446348,
              6.345498628845457
             ],
             [
              -1.878073019045333,
              6.353884652205337
             ],
             [
              -1.879791354412879,
              6.356983422161938
             ],
             [
              -1.87225114598834,
              6.361186524534784
             ],
             [
              -1.871067826509046,
              6.357832495357135
             ],
             [
              -1.865131920626121,
              6.359820340204197
             ],
             [
              -1.86596168678959,
              6.361279776310988
             ]
            ]
           ],
           "type": "Polygon"
          },
          "id": "0",
          "properties": {
           "Name": "Apamprama Forest Reserve/ Ashanti Region",
           "altitudeMo": null,
           "begin": null,
           "descriptio": null,
           "drawOrder": null,
           "end": null,
           "extrude": 0,
           "icon": null,
           "style": {
            "color": "black",
            "fillColor": "#440154ff",
            "weight": 0.9
           },
           "tessellate": 1,
           "timestamp": null,
           "visibility": -1
          },
          "type": "Feature"
         }
        ],
        "type": "FeatureCollection"
       },
       "name": "",
       "options": [],
       "popup": null,
       "popup_max_height": null,
       "popup_max_width": 300,
       "popup_min_width": 50,
       "style": {
        "fillOpacity": 0,
        "weight": 3
       }
      }
     },
     "4cdc96b776d24c399d43af41d26ec00c": {
      "model_module": "jupyter-leaflet",
      "model_module_version": "^0.14.0",
      "model_name": "LeafletTileLayerModel",
      "state": {
       "_model_module_version": "^0.14.0",
       "_view_module_version": "^0.14.0",
       "attribution": "Tiles &copy; Esri &mdash; Source: Esri, i-cubed, USDA, USGS, AEX, GeoEye, Getmapping, Aerogrid, IGN, IGP, UPR-EGP, and the GIS User Community",
       "base": true,
       "max_native_zoom": 18,
       "max_zoom": 20,
       "min_native_zoom": 0,
       "min_zoom": 1,
       "name": "Esri.WorldImagery",
       "options": [
        "attribution",
        "detect_retina",
        "max_native_zoom",
        "max_zoom",
        "min_native_zoom",
        "min_zoom",
        "no_wrap",
        "tile_size",
        "tms"
       ],
       "url": "http://server.arcgisonline.com/ArcGIS/rest/services/World_Imagery/MapServer/tile/{z}/{y}/{x}"
      }
     },
     "5163d0c7c5d2419b9de7f9eb304ef376": {
      "model_module": "jupyter-leaflet",
      "model_module_version": "^0.14.0",
      "model_name": "LeafletMapStyleModel",
      "state": {
       "_model_module_version": "^0.14.0"
      }
     },
     "6b65e9de74684b3a8182ab861107048a": {
      "model_module": "@jupyter-widgets/base",
      "model_module_version": "1.2.0",
      "model_name": "LayoutModel",
      "state": {}
     },
     "775bda47762949ad87aceacf1883f671": {
      "model_module": "jupyter-leaflet",
      "model_module_version": "^0.14.0",
      "model_name": "LeafletMapStyleModel",
      "state": {
       "_model_module_version": "^0.14.0"
      }
     },
     "8622803b75cc40cf98f32f40e555eb51": {
      "model_module": "jupyter-leaflet",
      "model_module_version": "^0.14.0",
      "model_name": "LeafletMapStyleModel",
      "state": {
       "_model_module_version": "^0.14.0",
       "cursor": "move"
      }
     },
     "8e5d460916934d49baf9eb656810e236": {
      "model_module": "@jupyter-widgets/controls",
      "model_module_version": "1.5.0",
      "model_name": "LabelModel",
      "state": {
       "layout": "IPY_MODEL_cefc4cf712574ebbb1243bea1a084218",
       "style": "IPY_MODEL_370492925a324770ae65549da50f642e"
      }
     },
     "9d51b7a330a34073a4a8855283c9df63": {
      "model_module": "jupyter-leaflet",
      "model_module_version": "^0.14.0",
      "model_name": "LeafletAttributionControlModel",
      "state": {
       "_model_module_version": "^0.14.0",
       "_view_module_version": "^0.14.0",
       "options": [
        "position",
        "prefix"
       ],
       "position": "bottomright",
       "prefix": "ipyleaflet"
      }
     },
     "cefc4cf712574ebbb1243bea1a084218": {
      "model_module": "@jupyter-widgets/base",
      "model_module_version": "1.2.0",
      "model_name": "LayoutModel",
      "state": {}
     },
     "d4705b9b0c40400eaf0446cb7af25066": {
      "model_module": "jupyter-leaflet",
      "model_module_version": "^0.14.0",
      "model_name": "LeafletMapModel",
      "state": {
       "_model_module_version": "^0.14.0",
       "_view_module_version": "^0.14.0",
       "bottom": 1011934,
       "center": [
        6.328635468846285,
        -1.8708615021743045
       ],
       "controls": [
        "IPY_MODEL_f88ab4f11611477091cf2def8ca508ae",
        "IPY_MODEL_9d51b7a330a34073a4a8855283c9df63"
       ],
       "default_style": "IPY_MODEL_775bda47762949ad87aceacf1883f671",
       "dragging_style": "IPY_MODEL_8622803b75cc40cf98f32f40e555eb51",
       "east": -1.8022727966308596,
       "fullscreen": false,
       "interpolation": "bilinear",
       "layers": [
        "IPY_MODEL_4cdc96b776d24c399d43af41d26ec00c",
        "IPY_MODEL_405614e6420d49dfac62e9597e5f458b"
       ],
       "layout": "IPY_MODEL_098cc3572762449ca10c44624f2fc878",
       "left": 1037277,
       "modisdate": "yesterday",
       "north": 6.379788743108688,
       "options": [
        "bounce_at_zoom_limits",
        "box_zoom",
        "center",
        "close_popup_on_click",
        "double_click_zoom",
        "dragging",
        "fullscreen",
        "inertia",
        "inertia_deceleration",
        "inertia_max_speed",
        "interpolation",
        "keyboard",
        "keyboard_pan_offset",
        "keyboard_zoom_offset",
        "max_zoom",
        "min_zoom",
        "scroll_wheel_zoom",
        "tap",
        "tap_tolerance",
        "touch_zoom",
        "world_copy_jump",
        "zoom",
        "zoom_animation_threshold",
        "zoom_delta",
        "zoom_snap",
        "zoom_start"
       ],
       "right": 1038077,
       "south": 6.2774195885844435,
       "style": "IPY_MODEL_5163d0c7c5d2419b9de7f9eb304ef376",
       "top": 1011334,
       "west": -1.9396018981933596,
       "window_url": "https://sandbox.digitalearth.africa/user/victoria@kartoza.com/lab/tree/dev/deafrica-sandbox-notebooks/Use_cases/Surface_mining_screening/Surface_mining_screening.ipynb",
       "zoom": 13
      }
     },
     "df8e184f0421480e98ef97006445b37b": {
      "model_module": "@jupyter-widgets/output",
      "model_module_version": "1.0.0",
      "model_name": "OutputModel",
      "state": {
       "layout": "IPY_MODEL_6b65e9de74684b3a8182ab861107048a"
      }
     },
     "f88ab4f11611477091cf2def8ca508ae": {
      "model_module": "jupyter-leaflet",
      "model_module_version": "^0.14.0",
      "model_name": "LeafletZoomControlModel",
      "state": {
       "_model_module_version": "^0.14.0",
       "_view_module_version": "^0.14.0",
       "options": [
        "position",
        "zoom_in_text",
        "zoom_in_title",
        "zoom_out_text",
        "zoom_out_title"
       ]
      }
     }
    },
    "version_major": 2,
    "version_minor": 0
   }
  }
 },
 "nbformat": 4,
 "nbformat_minor": 4
}
