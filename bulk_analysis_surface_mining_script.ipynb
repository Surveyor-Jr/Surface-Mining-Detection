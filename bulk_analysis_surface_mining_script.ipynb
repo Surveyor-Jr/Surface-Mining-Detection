{
 "cells": [
  {
   "cell_type": "code",
   "execution_count": null,
   "metadata": {},
   "outputs": [],
   "source": [
    "# Import functions for this notebook\n",
    "from Surface_mining_screening import (\n",
    "    calculate_area_per_pixel,\n",
    "    load_vector_file,\n",
    "    process_data,\n",
    "    calculate_vegetation_loss,\n",
    "    plot_possible_mining,\n",
    "    plot_vegetationloss_mining,\n",
    ")\n",
    "import os\n",
    "\n",
    "# Get a list of all shapefiles in the 'data' folder\n",
    "shapefile_folder = \"data\"\n",
    "shapefiles = [file for file in os.listdir(shapefile_folder) if file.endswith(\".shp\")]\n",
    "\n",
    "# Iterate over the shapefiles\n",
    "for shapefile in shapefiles:\n",
    "    district_name = os.path.splitext(shapefile)[0]  # Get the shapefile name without the extension\n",
    "\n",
    "    start_year = 2018\n",
    "    end_year = 2022\n",
    "    product = 's2'\n",
    "    threshold = -0.1\n",
    "    vector_file = os.path.join(shapefile_folder, shapefile)  # Create the full path to the shapefile\n",
    "    \n",
    "    try:\n",
    "        gdf, geom = load_vector_file(vector_file)\n",
    "        sentinel, wofs = process_data(gdf, geom, start_year, end_year, product=product)\n",
    "        veg_loss_annual, veg_loss_all = calculate_vegetation_loss(sentinel, threshold=threshold, product=product)\n",
    "        vegetation_loss_mining = plot_possible_mining(sentinel, veg_loss_all, wofs, product=product)\n",
    "        plot_vegetationloss_mining(sentinel, veg_loss_annual, vegetation_loss_mining, product=product)\n",
    "        from datacube.utils.cog import write_cog\n",
    "        write_cog(vegetation_loss_mining, \n",
    "        fname=f\"{district_name}.tif\",\n",
    "        overwrite=True)\n",
    "        write_cog(vegetation_loss_mining, fname=f\"{district_name}.tif\", overwrite=True)\n",
    "    except Exception as e:\n",
    "        print(f\"Error processing {district_name}: {str(e)}\")\n",
    "        continue"
   ]
  }
 ],
 "metadata": {
  "esriNotebookRuntime": {
   "notebookRuntimeName": "ArcGIS Notebook Python 3 Standard",
   "notebookRuntimeVersion": "7.0"
  },
  "kernelspec": {
   "display_name": "Python 3 (ipykernel)",
   "language": "python",
   "name": "python3"
  },
  "language_info": {
   "codemirror_mode": {
    "name": "ipython",
    "version": 3
   },
   "file_extension": ".py",
   "mimetype": "text/x-python",
   "name": "python",
   "nbconvert_exporter": "python",
   "pygments_lexer": "ipython3",
   "version": "3.8.10"
  }
 },
 "nbformat": 4,
 "nbformat_minor": 4
}
